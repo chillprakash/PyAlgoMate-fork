{
 "cells": [
  {
   "cell_type": "code",
   "execution_count": 1,
   "metadata": {},
   "outputs": [],
   "source": [
    "from selenium import webdriver\n",
    "from selenium.webdriver.common.by import By\n",
    "from webdriver_manager.chrome import ChromeDriverManager\n",
    "from selenium.webdriver.chrome.service import Service\n",
    "import pandas as pd\n",
    "import time\n",
    "import os\n",
    "import datetime as dt\n",
    "import requests\n",
    "\n",
    "option = webdriver.ChromeOptions()\n",
    "option.add_argument(\"start-maximized\")\n",
    "\n",
    "\n",
    "driver = webdriver.Chrome(service=Service(ChromeDriverManager().install()),options=option)"
   ]
  },
  {
   "cell_type": "code",
   "execution_count": 2,
   "metadata": {},
   "outputs": [],
   "source": [
    "user = input('Enter user name')\n",
    "password = input('Enter Password')\n",
    "fromDate = input('Enter from date in dd-mm-yyyy format')\n",
    "toDate = input('Enter to date in dd-mm-yyyy format')"
   ]
  },
  {
   "cell_type": "code",
   "execution_count": null,
   "metadata": {},
   "outputs": [],
   "source": [
    "url = 'https://reports.shoonya.com/Account/Login'\n",
    "driver.get(url)\n",
    "time.sleep(10)\n",
    "usernameField = driver.find_element('name', 'UserName')\n",
    "usernameField.send_keys(user)\n",
    "passwordField = driver.find_element('name', 'Password')\n",
    "passwordField.send_keys(password)\n",
    "submitButton = driver.find_element('id', 'submit-btn')\n",
    "submitButton.click()\n",
    "cookies = driver.get_cookies()\n",
    "aspxauth = cookies[0]['value']\n",
    "aspsessionid = cookies[1]['value']\n",
    "# close browser window\n",
    "driver.quit()"
   ]
  },
  {
   "cell_type": "code",
   "execution_count": null,
   "metadata": {},
   "outputs": [],
   "source": [
    "dataUrl = 'https://reports.shoonya.com/Home/BillSummaryDerivative'\n",
    "payload = {\n",
    "    'FromDate': fromDate,\n",
    "    'ToDate': toDate\n",
    "}\n",
    "cookies = {\n",
    "    \"ASP.NET_SessionId\": aspsessionid,\n",
    "    \".ASPXAUTH\": aspxauth\n",
    "}\n",
    "res = requests.post(dataUrl, cookies=cookies, data=payload)\n"
   ]
  },
  {
   "cell_type": "code",
   "execution_count": null,
   "metadata": {},
   "outputs": [],
   "source": [
    "df = pd.read_html(res.text)[3]\n",
    "df = df[['Trade Date', 'Bill Amount', 'Total Expenses']]\n",
    "df"
   ]
  },
  {
   "cell_type": "code",
   "execution_count": null,
   "metadata": {},
   "outputs": [],
   "source": [
    "df_mod = df.iloc[:-1, :]\n",
    "df_mod = df_mod[df_mod['Bill Amount'] < 200000]"
   ]
  },
  {
   "cell_type": "code",
   "execution_count": null,
   "metadata": {},
   "outputs": [],
   "source": [
    "df_mod['CUMSUM'] = df_mod['Bill Amount'].cumsum()\n"
   ]
  },
  {
   "cell_type": "code",
   "execution_count": null,
   "metadata": {},
   "outputs": [],
   "source": [
    "df_mod.plot(x='Trade Date', y=['CUMSUM'], figsize=(20, 10), color='green')"
   ]
  },
  {
   "cell_type": "code",
   "execution_count": null,
   "metadata": {},
   "outputs": [],
   "source": [
    "drawdowns = []\n",
    "runningMax = 0\n",
    "\n",
    "for date, val in zip(df_mod['Trade Date'], df_mod['CUMSUM']):\n",
    "    date = (dt.datetime.strptime(date, '%d/%m/%Y')).strftime('%Y-%m-%d')\n",
    "    if (val>=runningMax):\n",
    "        drawdowns.append([date, 0])\n",
    "        runningMax = val\n",
    "    else:\n",
    "        drawdowns.append([date, val-runningMax])\n",
    "\n",
    "drawdownDf = pd.DataFrame(drawdowns)\n",
    "drawdownDf.columns = ['Date', 'Drawdown']\n",
    "drawdownDf.set_index('Date', inplace=True)\n",
    "drawdownDf"
   ]
  },
  {
   "cell_type": "code",
   "execution_count": null,
   "metadata": {},
   "outputs": [],
   "source": [
    "drawdownDf.plot(figsize=(20, 10), color='red')"
   ]
  }
 ],
 "metadata": {
  "kernelspec": {
   "display_name": ".venv",
   "language": "python",
   "name": "python3"
  },
  "language_info": {
   "codemirror_mode": {
    "name": "ipython",
    "version": 3
   },
   "file_extension": ".py",
   "mimetype": "text/x-python",
   "name": "python",
   "nbconvert_exporter": "python",
   "pygments_lexer": "ipython3",
   "version": "3.8.10"
  }
 },
 "nbformat": 4,
 "nbformat_minor": 2
}
